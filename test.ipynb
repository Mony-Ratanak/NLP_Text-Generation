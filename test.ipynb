{
 "cells": [
  {
   "cell_type": "code",
   "execution_count": 6,
   "metadata": {},
   "outputs": [],
   "source": [
    "import wikipediaapi\n",
    "\n",
    "# Set up the Wikipedia API with a valid user-agent\n",
    "wiki = wikipediaapi.Wikipedia(\n",
    "    language=\"en\", \n",
    "    user_agent=\"YourAppName/1.0 (your-email@example.com)\"\n",
    ")\n",
    "\n",
    "# Fetch the article\n",
    "topic = \"Khmer Empire\"\n",
    "article = wiki.page(topic)\n",
    "\n",
    "if article.exists():\n",
    "    with open(f\"./datasets/wiki_data.txt\", \"w\", encoding=\"utf-8\") as file:\n",
    "        file.write(article.text)\n",
    "    \n",
    "else:\n",
    "    print(f\"The article '{topic}' does not exist.\")\n"
   ]
  }
 ],
 "metadata": {
  "kernelspec": {
   "display_name": "Python 3",
   "language": "python",
   "name": "python3"
  },
  "language_info": {
   "codemirror_mode": {
    "name": "ipython",
    "version": 3
   },
   "file_extension": ".py",
   "mimetype": "text/x-python",
   "name": "python",
   "nbconvert_exporter": "python",
   "pygments_lexer": "ipython3",
   "version": "3.13.0"
  }
 },
 "nbformat": 4,
 "nbformat_minor": 2
}
